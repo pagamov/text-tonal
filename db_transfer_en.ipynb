{
 "cells": [
  {
   "cell_type": "code",
   "execution_count": 1,
   "metadata": {},
   "outputs": [],
   "source": [
    "import sqlite3\n",
    "import re"
   ]
  },
  {
   "cell_type": "code",
   "execution_count": 2,
   "metadata": {},
   "outputs": [],
   "source": [
    "con = sqlite3.connect(\"db/main.db\")\n",
    "cur = con.cursor()"
   ]
  },
  {
   "cell_type": "code",
   "execution_count": 3,
   "metadata": {},
   "outputs": [],
   "source": [
    "# res = cur.execute('select label from Sample_table where text_ru is not NULL').fetchall()"
   ]
  },
  {
   "cell_type": "code",
   "execution_count": 4,
   "metadata": {},
   "outputs": [],
   "source": [
    "# s = {}\n",
    "# for i in res:\n",
    "#     if i[0] not in s:\n",
    "#         s[i[0]] = 1\n",
    "#     else:\n",
    "#         s[i[0]] += 1\n",
    "# print(s)"
   ]
  },
  {
   "cell_type": "code",
   "execution_count": 5,
   "metadata": {},
   "outputs": [],
   "source": [
    "cur.execute(\"\"\"CREATE TABLE IF NOT EXISTS \"Log_table\" (\n",
    "\t\"id\"\tINTEGER,\n",
    "\t\"date\"\tTEXT,\n",
    "\t\"text\"\tTEXT,\n",
    "\t\"label\"\tTEXT,\n",
    "\t\"info\"\tTEXT,\n",
    "\tPRIMARY KEY(\"id\")\n",
    ");\"\"\")\n",
    "con.commit()"
   ]
  },
  {
   "cell_type": "code",
   "execution_count": 6,
   "metadata": {},
   "outputs": [],
   "source": [
    "cur.execute(\"\"\"CREATE TABLE IF NOT EXISTS \"Sample_table\" (\n",
    "\t\"id\"\tINTEGER,\n",
    "\t\"text_en\"\tTEXT,\n",
    "\t\"text_ru\"\tTEXT DEFAULT NULL,\n",
    "\t\"label\"\tTEXT,\n",
    "\t\"processed\"\tINTEGER DEFAULT 0,\n",
    "\tPRIMARY KEY(\"id\")\n",
    ");\"\"\")\n",
    "con.commit()"
   ]
  },
  {
   "cell_type": "markdown",
   "metadata": {},
   "source": [
    "transfer data from homework data db files to db main.db file"
   ]
  },
  {
   "cell_type": "code",
   "execution_count": 7,
   "metadata": {},
   "outputs": [],
   "source": [
    "cur.execute(\"\"\"Delete from \"Sample_table\";\"\"\")\n",
    "con.commit()\n",
    "\n",
    "for i in range(10):\n",
    "    con_old = sqlite3.connect(f\"homework/data/db/mydatabase_{i}.db\")\n",
    "    cur_old = con_old.cursor()\n",
    "\n",
    "    res = cur_old.execute(\"Select * from emotions\").fetchall()\n",
    "    for item in res:\n",
    "        cur.execute(\"INSERT INTO \\\"Sample_table\\\" (text_en, text_ru, label, processed) VALUES (?, ?, ?, ?)\",\n",
    "                              (item[2], item[3], item[1], 0))\n",
    "\n",
    "    con_old.commit()\n",
    "    con_old.close()\n",
    "    con.commit()"
   ]
  },
  {
   "cell_type": "code",
   "execution_count": 8,
   "metadata": {},
   "outputs": [],
   "source": [
    "cur.execute(\"\"\"CREATE TABLE IF NOT EXISTS \"Usage_table\" (\n",
    "\t\"id\"\tINTEGER,\n",
    "\t\"word\"\tTEXT NOT NULL,\n",
    "\t\"language\"\tTEXT NOT NULL,\n",
    "\t\"label\"\tTEXT NOT NULL,\n",
    "\t\"usage\"\tINTEGER NOT NULL DEFAULT 0,\n",
    "\tPRIMARY KEY(\"id\")\n",
    ");\"\"\")\n",
    "con.commit()"
   ]
  },
  {
   "cell_type": "code",
   "execution_count": 9,
   "metadata": {},
   "outputs": [],
   "source": [
    "# import pymorphy2\n",
    "# from functools import lru_cache\n",
    "\n",
    "# @lru_cache(maxsize=None)\n",
    "# def generate_cases(word, morph):\n",
    "#     parsed_word = morph.parse(word)[0]\n",
    "#     try:\n",
    "#         cases = {\n",
    "#             'Именительный': parsed_word.inflect({'nomn'}).word or word,\n",
    "#             'Родительный': parsed_word.inflect({'gent'}).word or word,\n",
    "#             'Дательный': parsed_word.inflect({'datv'}).word or word,\n",
    "#             'Винительный': parsed_word.inflect({'accs'}).word or word,\n",
    "#             'Творительный': parsed_word.inflect({'ablt'}).word or word,\n",
    "#             'Предложный': parsed_word.inflect({'loct'}).word or word,\n",
    "#         }\n",
    "#     except:\n",
    "#         cases = {\"Основа\" : word}\n",
    "#     return cases"
   ]
  },
  {
   "cell_type": "code",
   "execution_count": 10,
   "metadata": {},
   "outputs": [],
   "source": [
    "# # Пример использования\n",
    "# word = \"\"\n",
    "# cases = generate_cases(word)\n",
    "\n",
    "# for case, form in cases.items():\n",
    "#     print(f\"{case}: {form}\")"
   ]
  },
  {
   "cell_type": "code",
   "execution_count": 11,
   "metadata": {},
   "outputs": [],
   "source": [
    "cur.execute(\"\"\"Delete from \"Usage_table\";\"\"\")\n",
    "con.commit()\n",
    "\n",
    "# res = cur.execute(\"\"\"\n",
    "# Select * from \"Sample_table\" where \"text_ru\" is not NULL limit 5;\n",
    "# \"\"\").fetchall()\n",
    "\n",
    "res = cur.execute(\"\"\"\n",
    "Select * from \"Sample_table\" where \"text_en\" is not NULL;\n",
    "\"\"\").fetchall()\n",
    "\n",
    "s = []\n",
    "for i in cur.execute('select label from Sample_table where text_en is not NULL').fetchall():\n",
    "    if i[0] not in s:\n",
    "        s.append(i[0])\n",
    "\n",
    "all_usage = {}\n",
    "for i in s:\n",
    "\tall_usage[i] = {}\n",
    "\n",
    "# morph = pymorphy2.MorphAnalyzer()\n",
    "\n",
    "for row in res:\n",
    "\tlabel = row[3]  \n",
    "\tfor word in row[1].split():\n",
    "\t\tnew_word = re.sub(r\"[^a-zA-Z]\", r\"\", word.lower())\n",
    "\t\tif new_word != '':\n",
    "\t\t\t# print(new_word)\n",
    "\t\t\t# cases = generate_cases(new_word, morph)\n",
    "\t\t\tword_ = new_word\n",
    "\t\t\tif word_ in all_usage[label]:\n",
    "\t\t\t\tall_usage[label][word_] += 1\n",
    "\t\t\telse:\n",
    "\t\t\t\tall_usage[label][word_] = 1\n",
    "\t\n",
    "\n",
    "for label in all_usage:\n",
    "\tfor word in all_usage[label]:\n",
    "\t\tnew_word = word\n",
    "\t\tcount = all_usage[label][word]\n",
    "\t\tcur.execute(\"insert into \\\"Usage_table\\\" (word, language, label, usage) values (?, ?, ?, ?)\", (new_word, \"en\", label, str(count)))\n",
    "con.commit()"
   ]
  },
  {
   "cell_type": "code",
   "execution_count": 12,
   "metadata": {},
   "outputs": [],
   "source": [
    "con.close()"
   ]
  }
 ],
 "metadata": {
  "kernelspec": {
   "display_name": "Python 3",
   "language": "python",
   "name": "python3"
  },
  "language_info": {
   "codemirror_mode": {
    "name": "ipython",
    "version": 3
   },
   "file_extension": ".py",
   "mimetype": "text/x-python",
   "name": "python",
   "nbconvert_exporter": "python",
   "pygments_lexer": "ipython3",
   "version": "3.12.3"
  }
 },
 "nbformat": 4,
 "nbformat_minor": 2
}
