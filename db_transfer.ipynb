{
 "cells": [
  {
   "cell_type": "code",
   "execution_count": 191,
   "metadata": {},
   "outputs": [],
   "source": [
    "import sqlite3\n",
    "import re"
   ]
  },
  {
   "cell_type": "code",
   "execution_count": 192,
   "metadata": {},
   "outputs": [],
   "source": [
    "con = sqlite3.connect(\"db/main.db\")\n",
    "cur = con.cursor()"
   ]
  },
  {
   "cell_type": "code",
   "execution_count": 193,
   "metadata": {},
   "outputs": [],
   "source": [
    "cur.execute(\"\"\"CREATE TABLE IF NOT EXISTS \"Log_table\" (\n",
    "\t\"id\"\tINTEGER,\n",
    "\t\"date\"\tTEXT,\n",
    "\t\"text\"\tTEXT,\n",
    "\t\"label\"\tTEXT,\n",
    "\t\"info\"\tTEXT,\n",
    "\tPRIMARY KEY(\"id\")\n",
    ");\"\"\")\n",
    "con.commit()"
   ]
  },
  {
   "cell_type": "code",
   "execution_count": 194,
   "metadata": {},
   "outputs": [],
   "source": [
    "cur.execute(\"\"\"CREATE TABLE IF NOT EXISTS \"Sample_table\" (\n",
    "\t\"id\"\tINTEGER,\n",
    "\t\"text_en\"\tTEXT,\n",
    "\t\"text_ru\"\tTEXT DEFAULT NULL,\n",
    "\t\"label\"\tTEXT,\n",
    "\t\"processed\"\tINTEGER DEFAULT 0,\n",
    "\tPRIMARY KEY(\"id\")\n",
    ");\"\"\")\n",
    "con.commit()\n",
    "\n",
    "for i in range(10):\n",
    "    con_old = sqlite3.connect(f\"homework/data/db/mydatabase_{i}.db\")\n",
    "    cur_old = con_old.cursor()\n",
    "\n",
    "    res = cur_old.execute(\"Select * from emotions\").fetchall()\n",
    "    for item in res:\n",
    "        cur.execute(\"INSERT INTO \\\"Sample_table\\\" (text_en, text_ru, label, processed) VALUES (?, ?, ?, ?)\",\n",
    "                              (item[2], item[3], item[1], 0))\n",
    "\n",
    "    con_old.commit()\n",
    "    con_old.close()\n",
    "    con.commit()"
   ]
  },
  {
   "cell_type": "code",
   "execution_count": 195,
   "metadata": {},
   "outputs": [],
   "source": [
    "cur.execute(\"\"\"CREATE TABLE IF NOT EXISTS \"Usage_table\" (\n",
    "\t\"id\"\tINTEGER,\n",
    "\t\"word\"\tTEXT NOT NULL,\n",
    "\t\"language\"\tTEXT NOT NULL,\n",
    "\t\"label\"\tTEXT NOT NULL,\n",
    "\t\"usage\"\tINTEGER NOT NULL DEFAULT 0,\n",
    "\tPRIMARY KEY(\"id\")\n",
    ");\"\"\")\n",
    "con.commit()\n",
    "\n",
    "# cur.execute(\"\"\"Delete from \"Usage_table\";\"\"\")\n",
    "# con.commit()\n",
    "\n",
    "\n",
    "# # res = cur.execute(\"\"\"\n",
    "# # Select * from \"Sample_table\" where \"text_ru\" is not NULL limit 5;\n",
    "# # \"\"\").fetchall()\n",
    "\n",
    "# res = cur.execute(\"\"\"\n",
    "# Select * from \"Sample_table\" where \"text_ru\" is not NULL;\n",
    "# \"\"\").fetchall()\n",
    "\n",
    "# for row in res:\n",
    "# \t# label\n",
    "# \tlabel = row[3] \n",
    "# \tfor word in row[2].split():\n",
    "# \t\t# rus text\n",
    "# \t\t# to lower and delete comma's and dots\n",
    "# \t\tnew_word = re.sub(r\"[\\\"\\'.]\", r\"\", word.lower())\n",
    "# \t\tprint(new_word, end=\" \")\n",
    "# \t\tcount = cur.execute(f\"\"\"select usage from \"Usage_table\" where word is \"{new_word}\";\"\"\").fetchall()\n",
    "# \t\tif count == []:\n",
    "# \t\t\tcount = 0\n",
    "# \t\t\tcur.execute(\"insert into \\\"Usage_table\\\" (word, language, label, usage) values (?, ?, ?, ?)\", (new_word, \"ru\", label, str(count)))\n",
    "# \t\telse:\n",
    "# \t\t\tcount = int(count[0][0])\n",
    "# \t\t\tcur.execute(f\"update \\\"Usage_table\\\" set usage = {count + 1} where word = \\\"{new_word}\\\" and label = \\\"{label}\\\";\")\n",
    "# \t\tprint(new_word, count)\n",
    "# \tcon.commit()\n",
    "\n"
   ]
  },
  {
   "cell_type": "code",
   "execution_count": 196,
   "metadata": {},
   "outputs": [],
   "source": [
    "con.close()"
   ]
  }
 ],
 "metadata": {
  "kernelspec": {
   "display_name": "Python 3",
   "language": "python",
   "name": "python3"
  },
  "language_info": {
   "codemirror_mode": {
    "name": "ipython",
    "version": 3
   },
   "file_extension": ".py",
   "mimetype": "text/x-python",
   "name": "python",
   "nbconvert_exporter": "python",
   "pygments_lexer": "ipython3",
   "version": "3.9.6"
  }
 },
 "nbformat": 4,
 "nbformat_minor": 2
}
