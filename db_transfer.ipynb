{
 "cells": [
  {
   "cell_type": "code",
   "execution_count": 20,
   "metadata": {},
   "outputs": [],
   "source": [
    "import sqlite3"
   ]
  },
  {
   "cell_type": "code",
   "execution_count": 21,
   "metadata": {},
   "outputs": [],
   "source": [
    "con = sqlite3.connect(\"db/main.db\")\n",
    "cur = con.cursor()"
   ]
  },
  {
   "cell_type": "code",
   "execution_count": 22,
   "metadata": {},
   "outputs": [],
   "source": [
    "cur.execute(\"\"\"CREATE TABLE IF NOT EXISTS \"Log_table\" (\n",
    "\t\"id\"\tINTEGER,\n",
    "\t\"date\"\tTEXT,\n",
    "\t\"text\"\tTEXT,\n",
    "\t\"label\"\tTEXT,\n",
    "\t\"info\"\tTEXT,\n",
    "\tPRIMARY KEY(\"id\")\n",
    ");\"\"\")\n",
    "con.commit()"
   ]
  },
  {
   "cell_type": "code",
   "execution_count": 23,
   "metadata": {},
   "outputs": [],
   "source": [
    "cur.execute(\"\"\"CREATE TABLE IF NOT EXISTS \"Sample_table\" (\n",
    "\t\"id\"\tINTEGER,\n",
    "\t\"text_en\"\tTEXT,\n",
    "\t\"text_ru\"\tTEXT DEFAULT NULL,\n",
    "\t\"label\"\tTEXT,\n",
    "\t\"processed\"\tINTEGER DEFAULT 0,\n",
    "\tPRIMARY KEY(\"id\")\n",
    ");\"\"\")\n",
    "con.commit()\n",
    "\n",
    "for i in range(10):\n",
    "    con_old = sqlite3.connect(f\"homework/data/db/mydatabase_{i}.db\")\n",
    "    cur_old = con_old.cursor()\n",
    "\n",
    "    res = cur_old.execute(\"Select * from emotions\").fetchall()\n",
    "    for item in res:\n",
    "        cur.execute(\"INSERT INTO \\\"Sample_table\\\" (text_en, text_ru, label, processed) VALUES (?, ?, ?, ?)\",\n",
    "                              (item[2], item[3], item[1], 0))\n",
    "\n",
    "    con_old.commit()\n",
    "    con_old.close()\n",
    "    con.commit()"
   ]
  },
  {
   "cell_type": "code",
   "execution_count": 24,
   "metadata": {},
   "outputs": [],
   "source": []
  },
  {
   "cell_type": "code",
   "execution_count": 25,
   "metadata": {},
   "outputs": [],
   "source": [
    "cur.execute(\"\"\"CREATE TABLE IF NOT EXISTS \"Usage_table\" (\n",
    "\t\"id\"\tINTEGER,\n",
    "\t\"word\"\tTEXT NOT NULL,\n",
    "\t\"language\"\tTEXT NOT NULL,\n",
    "\t\"label\"\tTEXT NOT NULL,\n",
    "\t\"usage\"\tINTEGER NOT NULL DEFAULT 0,\n",
    "\tPRIMARY KEY(\"id\")\n",
    ");\"\"\")\n",
    "con.commit()"
   ]
  },
  {
   "cell_type": "code",
   "execution_count": 26,
   "metadata": {},
   "outputs": [],
   "source": [
    "con.close()"
   ]
  }
 ],
 "metadata": {
  "kernelspec": {
   "display_name": "Python 3",
   "language": "python",
   "name": "python3"
  },
  "language_info": {
   "codemirror_mode": {
    "name": "ipython",
    "version": 3
   },
   "file_extension": ".py",
   "mimetype": "text/x-python",
   "name": "python",
   "nbconvert_exporter": "python",
   "pygments_lexer": "ipython3",
   "version": "3.9.6"
  }
 },
 "nbformat": 4,
 "nbformat_minor": 2
}
