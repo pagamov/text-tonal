{
 "cells": [
  {
   "cell_type": "code",
   "execution_count": 2,
   "metadata": {},
   "outputs": [],
   "source": [
    "# import openpyxl\n",
    "import json\n",
    "import os\n",
    "import sqlite3\n",
    "from time import sleep\n",
    "# from deep_translator import GoogleTranslator\n",
    "import concurrent.futures\n",
    "# from tqdm import tqdm\n",
    "# from argostranslate import package, translate"
   ]
  },
  {
   "cell_type": "code",
   "execution_count": 3,
   "metadata": {},
   "outputs": [],
   "source": [
    "TABLE_NUM = 10"
   ]
  },
  {
   "cell_type": "code",
   "execution_count": 4,
   "metadata": {},
   "outputs": [
    {
     "name": "stdout",
     "output_type": "stream",
     "text": [
      "db/mydatabase_0.db 78849 / 125841\n",
      "db/mydatabase_1.db 125843 / 125843\n",
      "db/mydatabase_2.db 125843 / 125843\n",
      "db/mydatabase_3.db 20139 / 125841\n",
      "db/mydatabase_4.db 21466 / 125839\n",
      "db/mydatabase_5.db 20052 / 125836\n",
      "db/mydatabase_6.db 20501 / 125832\n",
      "db/mydatabase_7.db 20411 / 125831\n",
      "db/mydatabase_8.db 20238 / 125830\n",
      "db/mydatabase_9.db 19580 / 125828\n"
     ]
    }
   ],
   "source": [
    "tables = [f'db/mydatabase_{i}.db' for i in range(TABLE_NUM)]\n",
    "\n",
    "for table in tables:\n",
    "\n",
    "    conn = sqlite3.connect(table)\n",
    "    c = conn.cursor()\n",
    "\n",
    "    c.execute(\"SELECT id, text FROM emotions WHERE translate IS NOT NULL\")\n",
    "    rows_done = len(c.fetchall())\n",
    "    c.execute(\"SELECT id, text FROM emotions\")\n",
    "    row_not_done = len(c.fetchall())\n",
    "\n",
    "\n",
    "    print(table, rows_done, '/', row_not_done)\n",
    "    conn.close()"
   ]
  }
 ],
 "metadata": {
  "kernelspec": {
   "display_name": "Python 3",
   "language": "python",
   "name": "python3"
  },
  "language_info": {
   "codemirror_mode": {
    "name": "ipython",
    "version": 3
   },
   "file_extension": ".py",
   "mimetype": "text/x-python",
   "name": "python",
   "nbconvert_exporter": "python",
   "pygments_lexer": "ipython3",
   "version": "3.9.6"
  }
 },
 "nbformat": 4,
 "nbformat_minor": 2
}
