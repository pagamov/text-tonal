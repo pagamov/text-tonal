{
 "cells": [
  {
   "cell_type": "code",
   "execution_count": 1,
   "metadata": {},
   "outputs": [],
   "source": [
    "import os\n",
    "import zipfile"
   ]
  },
  {
   "cell_type": "code",
   "execution_count": 2,
   "metadata": {},
   "outputs": [],
   "source": [
    "def create_zip_file(zip_file_path, files_to_zip):\n",
    "    \"\"\"Create a zip file containing the specified files.\"\"\"\n",
    "    with zipfile.ZipFile(zip_file_path, 'w', zipfile.ZIP_DEFLATED) as zip_file:\n",
    "        for file in files_to_zip:\n",
    "            if os.path.isfile(file):\n",
    "                zip_file.write(file, os.path.basename(file))\n",
    "                print(f'Added: {file}')\n",
    "            else:\n",
    "                print(f'File not found: {file}')"
   ]
  },
  {
   "cell_type": "code",
   "execution_count": 3,
   "metadata": {},
   "outputs": [],
   "source": [
    "def split_file(file_path, chunk_size=10 * 1024 * 1024):\n",
    "    \"\"\"Split a file into smaller chunks.\"\"\"\n",
    "    base_name = os.path.splitext(file_path)[0]\n",
    "    os.makedirs(base_name, exist_ok=True)\n",
    "\n",
    "    with open(file_path, 'rb') as file:\n",
    "        chunk_number = 0\n",
    "        while True:\n",
    "            chunk_data = file.read(chunk_size)\n",
    "            if not chunk_data:\n",
    "                break\n",
    "            chunk_file_path = os.path.join(base_name, f'chunk_{chunk_number + 1}.zip')\n",
    "            with open(chunk_file_path, 'wb') as chunk_file:\n",
    "                chunk_file.write(chunk_data)\n",
    "            print(f'Created: {chunk_file_path}')\n",
    "            chunk_number += 1"
   ]
  },
  {
   "cell_type": "code",
   "execution_count": 4,
   "metadata": {},
   "outputs": [
    {
     "name": "stdout",
     "output_type": "stream",
     "text": [
      "File not found: main.db.zip\n",
      "Created: main/chunk_1.zip\n"
     ]
    }
   ],
   "source": [
    "# os.system('pwd')\n",
    "# exit()\n",
    "\n",
    "if __name__ == \"__main__\":\n",
    "    # Specify the zip file name\n",
    "    zip_file_path = 'main.db'\n",
    "    \n",
    "    # List of files to zip\n",
    "    files_to_zip = [\n",
    "        'main.db.zip',  # Replace with your actual file paths\n",
    "    ]\n",
    "    \n",
    "    # Create the zip file\n",
    "    create_zip_file(zip_file_path, files_to_zip)\n",
    "    \n",
    "    # Split the zip file into 10 MB chunks\n",
    "    split_file(zip_file_path)"
   ]
  },
  {
   "cell_type": "code",
   "execution_count": null,
   "metadata": {},
   "outputs": [],
   "source": [
    "os.system(\"zip \")"
   ]
  }
 ],
 "metadata": {
  "kernelspec": {
   "display_name": "Python 3",
   "language": "python",
   "name": "python3"
  },
  "language_info": {
   "codemirror_mode": {
    "name": "ipython",
    "version": 3
   },
   "file_extension": ".py",
   "mimetype": "text/x-python",
   "name": "python",
   "nbconvert_exporter": "python",
   "pygments_lexer": "ipython3",
   "version": "3.9.6"
  }
 },
 "nbformat": 4,
 "nbformat_minor": 2
}
